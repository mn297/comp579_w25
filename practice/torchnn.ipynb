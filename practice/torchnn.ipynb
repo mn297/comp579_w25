{
 "cells": [
  {
   "cell_type": "code",
   "execution_count": 1,
   "metadata": {},
   "outputs": [
    {
     "name": "stdout",
     "output_type": "stream",
     "text": [
      "torch.Size([3])\n",
      "torch.Size([2, 2])\n"
     ]
    }
   ],
   "source": [
    "import torch\n",
    "\n",
    "# Creating tensors (multi-dimensional arrays)\n",
    "x = torch.tensor([1.0, 2.0, 3.0])  # 1D tensor\n",
    "y = torch.tensor([[1.0, 2.0], [3.0, 4.0]])  # 2D tensor\n",
    "\n",
    "print(x.shape)  # torch.Size([3])\n",
    "print(y.shape)  # torch.Size([2, 2])"
   ]
  },
  {
   "cell_type": "markdown",
   "metadata": {},
   "source": [
    "Then y = xW^T + b has shape (32, 20)\n"
   ]
  },
  {
   "cell_type": "code",
   "execution_count": 3,
   "metadata": {},
   "outputs": [
    {
     "name": "stdout",
     "output_type": "stream",
     "text": [
      "torch.Size([4, 3])\n"
     ]
    }
   ],
   "source": [
    "import torch.nn as nn\n",
    "\n",
    "# The simplest neural network layer\n",
    "linear = nn.Linear(in_features=2, out_features=3)\n",
    "# This creates a layer that transforms input of size 2 to output of size 3\n",
    "# It contains weights (2x3) and biases (3)\n",
    "\n",
    "# 4 data points\n",
    "input_data = torch.tensor([[1.0, 2.0], [3.0, 4.0], [3.0, 4.0], [3.0, 4.0]])\n",
    "output = linear(input_data)\n",
    "print(output.shape)"
   ]
  },
  {
   "cell_type": "code",
   "execution_count": 4,
   "metadata": {},
   "outputs": [],
   "source": [
    "# Activation functions add non-linearity\n",
    "activation = nn.ReLU()  # Rectified Linear Unit: f(x) = max(0, x)\n",
    "output = activation(linear(input_data))"
   ]
  },
  {
   "cell_type": "code",
   "execution_count": 5,
   "metadata": {},
   "outputs": [],
   "source": [
    "# Method 1: Sequential container (chains modules in order)\n",
    "model = nn.Sequential(\n",
    "    nn.Linear(2, 10),  # First layer: 2 inputs → 10 hidden neurons\n",
    "    nn.ReLU(),  # Activation function\n",
    "    nn.Linear(10, 1),  # Output layer: 10 hidden → 1 output\n",
    ")\n",
    "\n",
    "\n",
    "# Method 2: Custom class (more flexible)\n",
    "class SimpleNetwork(nn.Module):\n",
    "    def __init__(self):\n",
    "        super(SimpleNetwork, self).__init__()\n",
    "        self.layer1 = nn.Linear(2, 10)\n",
    "        self.relu = nn.ReLU()\n",
    "        self.layer2 = nn.Linear(10, 1)\n",
    "\n",
    "    def forward(self, x):\n",
    "        x = self.layer1(x)\n",
    "        x = self.relu(x)\n",
    "        x = self.layer2(x)\n",
    "        return x\n",
    "\n",
    "\n",
    "model2 = SimpleNetwork()"
   ]
  },
  {
   "cell_type": "code",
   "execution_count": 6,
   "metadata": {},
   "outputs": [
    {
     "data": {
      "text/plain": [
       "Sequential(\n",
       "  (0): Linear(in_features=2, out_features=10, bias=True)\n",
       "  (1): ReLU()\n",
       "  (2): Linear(in_features=10, out_features=1, bias=True)\n",
       ")"
      ]
     },
     "execution_count": 6,
     "metadata": {},
     "output_type": "execute_result"
    }
   ],
   "source": [
    "# Manual initialization (what you're doing in your code)\n",
    "def init_weights(m):\n",
    "    if isinstance(m, nn.Linear):\n",
    "        nn.init.uniform_(m.weight, -0.001, 0.001)\n",
    "        nn.init.uniform_(m.bias, -0.001, 0.001)\n",
    "\n",
    "\n",
    "model.apply(init_weights)  # Apply to all layers"
   ]
  },
  {
   "cell_type": "code",
   "execution_count": null,
   "metadata": {},
   "outputs": [],
   "source": [
    "loss_fn = nn.MSELoss()  # Mean Squared Error loss\n",
    "\n",
    "# Calculate loss between predicted and target values\n",
    "target = torch.tensor([[0.5], [1.0]])\n",
    "loss = loss_fn(output, target)  # Scalar value measuring prediction error"
   ]
  },
  {
   "cell_type": "code",
   "execution_count": null,
   "metadata": {},
   "outputs": [],
   "source": [
    "optimizer = torch.optim.SGD(model.parameters(), lr=0.01)  # Stochastic Gradient Descent"
   ]
  },
  {
   "cell_type": "code",
   "execution_count": null,
   "metadata": {},
   "outputs": [],
   "source": [
    "# Basic training step\n",
    "optimizer.zero_grad()      # Clear previous gradients\n",
    "loss.backward()            # Compute gradients\n",
    "optimizer.step()           # Update weights based on gradients"
   ]
  },
  {
   "cell_type": "code",
   "execution_count": null,
   "metadata": {},
   "outputs": [],
   "source": []
  },
  {
   "cell_type": "code",
   "execution_count": null,
   "metadata": {},
   "outputs": [],
   "source": []
  }
 ],
 "metadata": {
  "kernelspec": {
   "display_name": "Python 3",
   "language": "python",
   "name": "python3"
  },
  "language_info": {
   "codemirror_mode": {
    "name": "ipython",
    "version": 3
   },
   "file_extension": ".py",
   "mimetype": "text/x-python",
   "name": "python",
   "nbconvert_exporter": "python",
   "pygments_lexer": "ipython3",
   "version": "3.12.4"
  }
 },
 "nbformat": 4,
 "nbformat_minor": 2
}
