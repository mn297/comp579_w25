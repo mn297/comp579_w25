{
 "cells": [
  {
   "cell_type": "code",
   "execution_count": 1,
   "id": "29b12b22",
   "metadata": {},
   "outputs": [],
   "source": [
    "# %pip install gymnasium matplotlib numpy pandas seaborn stable-baselines3[extra] ale-py gym-anytrading tqdm scipy scikit-learn dask-ml"
   ]
  },
  {
   "cell_type": "code",
   "execution_count": 2,
   "id": "5acffbde",
   "metadata": {},
   "outputs": [],
   "source": [
    "import os\n",
    "import random\n",
    "import shutil\n",
    "import heapq\n",
    "import pickle\n",
    "import psutil\n",
    "\n",
    "import numpy as np\n",
    "\n",
    "import modin.pandas as pd\n",
    "import modin.config as cfg\n",
    "\n",
    "\n",
    "import matplotlib.pyplot as plt\n",
    "import torch\n",
    "from torch import nn\n",
    "from scipy.spatial import KDTree\n",
    "import ta\n",
    "import kagglehub\n",
    "\n",
    "import gymnasium as gym\n",
    "from gymnasium import spaces\n",
    "import gym_anytrading\n",
    "\n",
    "from stable_baselines3 import DQN, PPO, A2C, DDPG, SAC, TD3\n",
    "from stable_baselines3.common.callbacks import EvalCallback, CheckpointCallback\n",
    "from stable_baselines3.common.vec_env import DummyVecEnv, VecMonitor, VecNormalize\n",
    "from stable_baselines3.common.buffers import BaseBuffer\n",
    "from stable_baselines3.common.type_aliases import ReplayBufferSamples\n",
    "from stable_baselines3.common.buffers import ReplayBuffer\n",
    "\n",
    "from typing import Union, Any, Optional\n",
    "\n",
    "# from sklearn.preprocessing import MinMaxScaler\n",
    "import dask.array as da\n",
    "from dask_ml.preprocessing import MinMaxScaler\n",
    "\n",
    "\n",
    "from signal import Signals\n",
    "import time\n",
    "import numpy as np\n",
    "import pandas as pd\n",
    "from sklearn.cluster import KMeans\n",
    "from tqdm.auto import tqdm\n",
    "import stumpy\n",
    "from numba import cuda\n",
    "import IPython.display\n",
    "import gc\n",
    "\n",
    "%matplotlib inline"
   ]
  },
  {
   "cell_type": "markdown",
   "id": "3bef5dc0",
   "metadata": {},
   "source": [
    "## PREPROCESSING"
   ]
  },
  {
   "cell_type": "markdown",
   "id": "4a19a804",
   "metadata": {},
   "source": [
    "### Get data and add technical features"
   ]
  },
  {
   "cell_type": "code",
   "execution_count": 3,
   "id": "af6ec962",
   "metadata": {},
   "outputs": [
    {
     "name": "stdout",
     "output_type": "stream",
     "text": [
      "19.0.1\n",
      "<Client: 'tcp://127.0.0.1:61727' processes=8 threads=32, memory=93.66 GiB>\n",
      "Warning: Looks like you're using an outdated `kagglehub` version (installed: 0.3.11), please consider upgrading to the latest version (0.3.12).\n",
      "Files: ['1_min_SPY_2008-2021.csv']\n",
      "Files saved to ./datasets/sp500\n",
      "Dataset already exists.\n",
      "DataFrame columns: ['Unnamed: 0', 'open', 'high', 'low', 'close', 'volume', 'barCount', 'average', 'volume_adi', 'volume_obv', 'volume_cmf', 'volume_fi', 'volume_em', 'volume_sma_em', 'volume_vpt', 'volume_vwap', 'volume_mfi', 'volume_nvi', 'volatility_bbm', 'volatility_bbh', 'volatility_bbl', 'volatility_bbw', 'volatility_bbp', 'volatility_bbhi', 'volatility_bbli', 'volatility_kcc', 'volatility_kch', 'volatility_kcl', 'volatility_kcw', 'volatility_kcp', 'volatility_kchi', 'volatility_kcli', 'volatility_dcl', 'volatility_dch', 'volatility_dcm', 'volatility_dcw', 'volatility_dcp', 'volatility_atr', 'volatility_ui', 'trend_macd', 'trend_macd_signal', 'trend_macd_diff', 'trend_sma_fast', 'trend_sma_slow', 'trend_ema_fast', 'trend_ema_slow', 'trend_vortex_ind_pos', 'trend_vortex_ind_neg', 'trend_vortex_ind_diff', 'trend_trix', 'trend_mass_index', 'trend_dpo', 'trend_kst', 'trend_kst_sig', 'trend_kst_diff', 'trend_ichimoku_conv', 'trend_ichimoku_base', 'trend_ichimoku_a', 'trend_ichimoku_b', 'trend_stc', 'trend_adx', 'trend_adx_pos', 'trend_adx_neg', 'trend_cci', 'trend_visual_ichimoku_a', 'trend_visual_ichimoku_b', 'trend_aroon_up', 'trend_aroon_down', 'trend_aroon_ind', 'trend_psar_up', 'trend_psar_down', 'trend_psar_up_indicator', 'trend_psar_down_indicator', 'momentum_rsi', 'momentum_stoch_rsi', 'momentum_stoch_rsi_k', 'momentum_stoch_rsi_d', 'momentum_tsi', 'momentum_uo', 'momentum_stoch', 'momentum_stoch_signal', 'momentum_wr', 'momentum_ao', 'momentum_roc', 'momentum_ppo', 'momentum_ppo_signal', 'momentum_ppo_hist', 'momentum_pvo', 'momentum_pvo_signal', 'momentum_pvo_hist', 'momentum_kama', 'others_dr', 'others_dlr', 'others_cr']\n"
     ]
    }
   ],
   "source": [
    "import os, shutil\n",
    "from modin.config import Engine\n",
    "\n",
    "Engine.put(\"dask\")  # Modin on Dask\n",
    "\n",
    "import kagglehub, pandas as pd, dask.dataframe as dd\n",
    "from dask.distributed import Client, progress\n",
    "import ta, pyarrow as pa\n",
    "\n",
    "print(pa.__version__)  # should be ≥ 10.0.1\n",
    "\n",
    "client = Client()\n",
    "print(client)\n",
    "\n",
    "\n",
    "def add_ta(df: pd.DataFrame) -> pd.DataFrame:\n",
    "    return ta.add_all_ta_features(\n",
    "        df,\n",
    "        open=\"open\",\n",
    "        high=\"high\",\n",
    "        low=\"low\",\n",
    "        close=\"close\",\n",
    "        volume=\"volume\",\n",
    "        fillna=True,\n",
    "    )\n",
    "\n",
    "\n",
    "path_sp500 = kagglehub.dataset_download(\n",
    "    \"gratefuldata/intraday-stock-data-1-min-sp-500-200821\"\n",
    ")\n",
    "files_sp500 = os.listdir(path_sp500)\n",
    "print(\"Files:\", files_sp500)\n",
    "\n",
    "output_path = \"datasets/sp500_ta\"\n",
    "\n",
    "local_dir = \"./datasets/sp500\"\n",
    "os.makedirs(local_dir, exist_ok=True)\n",
    "for f in files_sp500:\n",
    "    shutil.copy2(os.path.join(path_sp500, f), os.path.join(local_dir, f))\n",
    "print(\"Files saved to\", local_dir)\n",
    "\n",
    "if os.path.exists(output_path):\n",
    "    print(\"Dataset already exists.\")\n",
    "    ddf = dd.read_parquet(output_path)\n",
    "else:\n",
    "    print(\"Making dataset.\")\n",
    "    MAX_LOOKBACK = 256  # longest rolling window length\n",
    "    # set index to datetime\n",
    "    ddf = dd.read_csv(\n",
    "        os.path.join(local_dir, \"*.csv\"),\n",
    "        blocksize=\"64 MB\",\n",
    "        assume_missing=True,\n",
    "        parse_dates={\"datetime\": [\"date\"]},\n",
    "    ).set_index(\n",
    "        \"datetime\",\n",
    "        sorted=False,\n",
    "        # drop=False\n",
    "    )  # needed for map_overlap\n",
    "\n",
    "    sample = ddf.head(MAX_LOOKBACK)  # small pandas DF (triggers 1 read)\n",
    "    # make sure index is a column\n",
    "    # if sample.index.name == \"datetime\":\n",
    "    #     sample = sample.reset_index()\n",
    "    meta = add_ta(sample).iloc[0:0]  # keep cols, drop rows\n",
    "\n",
    "    ddf = ddf.map_overlap(\n",
    "        add_ta,\n",
    "        before=MAX_LOOKBACK - 1,\n",
    "        after=0,\n",
    "        meta=meta,\n",
    "    )\n",
    "    ddf = ddf.persist()\n",
    "    progress(ddf)\n",
    "\n",
    "    ddf.to_parquet(output_path, write_index=True)\n",
    "    # ddf.to_csv(\"datasets/sp500_ta.csv\", single_file=True, index=True)\n",
    "\n",
    "    print(\"Finished TA feature generation with full look‑back safety.\")\n",
    "print(\"DataFrame columns:\", ddf.columns.tolist())\n",
    "ddf_fresh = ddf"
   ]
  },
  {
   "cell_type": "code",
   "execution_count": 4,
   "id": "6f027045",
   "metadata": {},
   "outputs": [],
   "source": [
    "ddf = ddf_fresh"
   ]
  },
  {
   "cell_type": "markdown",
   "id": "9e7ef678",
   "metadata": {},
   "source": [
    "### Normalize volume"
   ]
  },
  {
   "cell_type": "code",
   "execution_count": null,
   "id": "5340d4c6",
   "metadata": {},
   "outputs": [],
   "source": [
    "from dask_ml.preprocessing import MinMaxScaler\n",
    "\n",
    "\n",
    "# 1. Identify the volume columns\n",
    "volume_features = [\"volume\", \"volume_obv\", \"volume_vwap\"]\n",
    "\n",
    "# 2. Build a boolean mask of rows where ALL volume_features are non‑null\n",
    "mask = ddf[volume_features].notnull().all(axis=1)\n",
    "\n",
    "# 3. Fit the scaler on the valid subset\n",
    "scaler = MinMaxScaler()\n",
    "scaler.fit(ddf[volume_features][mask])\n",
    "\n",
    "# 4. Transform the entire column block (rows with any NaN stay NaN after transform)\n",
    "scaled = scaler.transform(ddf[volume_features])\n",
    "\n",
    "# 5. Drop the originals and overwrite with the scaled columns\n",
    "ddf_scaled = ddf.drop(columns=volume_features)\n",
    "# `scaled` has the same column names as volume_features by default:\n",
    "ddf_scaled = ddf_scaled.assign(**{col: scaled[col] for col in volume_features})\n",
    "\n",
    "\n",
    "# Compute each stat in parallel, then collect to pandas\n",
    "mins = ddf_scaled[volume_features].min().compute()\n",
    "means = ddf_scaled[volume_features].mean().compute()\n",
    "maxs = ddf_scaled[volume_features].max().compute()\n",
    "\n",
    "# Print them out\n",
    "print(\"Scaled volume feature stats:\")\n",
    "for col in volume_features:\n",
    "    print(f\"{col:12s}  min={mins[col]:.4f}  mean={means[col]:.4f}  max={maxs[col]:.4f}\")\n",
    "\n",
    "# print(ddf_scaled.columns)"
   ]
  },
  {
   "cell_type": "markdown",
   "id": "fc523f1c",
   "metadata": {},
   "source": [
    "### Regular trading hours"
   ]
  },
  {
   "cell_type": "code",
   "execution_count": null,
   "id": "bc10a3db",
   "metadata": {},
   "outputs": [
    {
     "name": "stdout",
     "output_type": "stream",
     "text": [
      "Index(['datetime', 'Unnamed: 0', 'open', 'high', 'low', 'close', 'volume',\n",
      "       'barCount', 'average', 'volume_adi', 'volume_obv', 'volume_cmf',\n",
      "       'volume_fi', 'volume_em', 'volume_sma_em', 'volume_vpt', 'volume_vwap',\n",
      "       'volume_mfi', 'volume_nvi', 'volatility_bbm', 'volatility_bbh',\n",
      "       'volatility_bbl', 'volatility_bbw', 'volatility_bbp', 'volatility_bbhi',\n",
      "       'volatility_bbli', 'volatility_kcc', 'volatility_kch', 'volatility_kcl',\n",
      "       'volatility_kcw', 'volatility_kcp', 'volatility_kchi',\n",
      "       'volatility_kcli', 'volatility_dcl', 'volatility_dch', 'volatility_dcm',\n",
      "       'volatility_dcw', 'volatility_dcp', 'volatility_atr', 'volatility_ui',\n",
      "       'trend_macd', 'trend_macd_signal', 'trend_macd_diff', 'trend_sma_fast',\n",
      "       'trend_sma_slow', 'trend_ema_fast', 'trend_ema_slow',\n",
      "       'trend_vortex_ind_pos', 'trend_vortex_ind_neg', 'trend_vortex_ind_diff',\n",
      "       'trend_trix', 'trend_mass_index', 'trend_dpo', 'trend_kst',\n",
      "       'trend_kst_sig', 'trend_kst_diff', 'trend_ichimoku_conv',\n",
      "       'trend_ichimoku_base', 'trend_ichimoku_a', 'trend_ichimoku_b',\n",
      "       'trend_stc', 'trend_adx', 'trend_adx_pos', 'trend_adx_neg', 'trend_cci',\n",
      "       'trend_visual_ichimoku_a', 'trend_visual_ichimoku_b', 'trend_aroon_up',\n",
      "       'trend_aroon_down', 'trend_aroon_ind', 'trend_psar_up',\n",
      "       'trend_psar_down', 'trend_psar_up_indicator',\n",
      "       'trend_psar_down_indicator', 'momentum_rsi', 'momentum_stoch_rsi',\n",
      "       'momentum_stoch_rsi_k', 'momentum_stoch_rsi_d', 'momentum_tsi',\n",
      "       'momentum_uo', 'momentum_stoch', 'momentum_stoch_signal', 'momentum_wr',\n",
      "       'momentum_ao', 'momentum_roc', 'momentum_ppo', 'momentum_ppo_signal',\n",
      "       'momentum_ppo_hist', 'momentum_pvo', 'momentum_pvo_signal',\n",
      "       'momentum_pvo_hist', 'momentum_kama', 'others_dr', 'others_dlr',\n",
      "       'others_cr', 'hour', 'minute'],\n",
      "      dtype='object')\n"
     ]
    }
   ],
   "source": [
    "# Extract hour and minute from the index for filtering\n",
    "ddf[\"hour\"] = ddf.index.hour\n",
    "ddf[\"minute\"] = ddf.index.minute\n",
    "\n",
    "# 2. Filter for Regular Trading Hours (RTH)\n",
    "rth_filter = (\n",
    "    ((ddf[\"hour\"] == 9) & (ddf[\"minute\"] >= 30))\n",
    "    | ((ddf[\"hour\"] > 9) & (ddf[\"hour\"] < 16))\n",
    "    | ((ddf[\"hour\"] == 16) & (ddf[\"minute\"] == 0))\n",
    ")\n",
    "ddf = ddf.loc[rth_filter]\n",
    "\n",
    "# 3. Reset index, but keep datetime as a column for feature access\n",
    "ddf = ddf.reset_index()  # Now 'datetime' is a column\n",
    "print(ddf.columns)\n",
    "\n",
    "ddf_preprocessed = ddf"
   ]
  },
  {
   "cell_type": "markdown",
   "id": "e5042c59",
   "metadata": {},
   "source": [
    "#### RUN THIS CELL TO RESTORE DDF"
   ]
  },
  {
   "cell_type": "code",
   "execution_count": null,
   "id": "eac56152",
   "metadata": {},
   "outputs": [
    {
     "name": "stdout",
     "output_type": "stream",
     "text": [
      "Index(['datetime', 'Unnamed: 0', 'open', 'high', 'low', 'close', 'volume',\n",
      "       'barCount', 'average', 'volume_adi', 'volume_obv', 'volume_cmf',\n",
      "       'volume_fi', 'volume_em', 'volume_sma_em', 'volume_vpt', 'volume_vwap',\n",
      "       'volume_mfi', 'volume_nvi', 'volatility_bbm', 'volatility_bbh',\n",
      "       'volatility_bbl', 'volatility_bbw', 'volatility_bbp', 'volatility_bbhi',\n",
      "       'volatility_bbli', 'volatility_kcc', 'volatility_kch', 'volatility_kcl',\n",
      "       'volatility_kcw', 'volatility_kcp', 'volatility_kchi',\n",
      "       'volatility_kcli', 'volatility_dcl', 'volatility_dch', 'volatility_dcm',\n",
      "       'volatility_dcw', 'volatility_dcp', 'volatility_atr', 'volatility_ui',\n",
      "       'trend_macd', 'trend_macd_signal', 'trend_macd_diff', 'trend_sma_fast',\n",
      "       'trend_sma_slow', 'trend_ema_fast', 'trend_ema_slow',\n",
      "       'trend_vortex_ind_pos', 'trend_vortex_ind_neg', 'trend_vortex_ind_diff',\n",
      "       'trend_trix', 'trend_mass_index', 'trend_dpo', 'trend_kst',\n",
      "       'trend_kst_sig', 'trend_kst_diff', 'trend_ichimoku_conv',\n",
      "       'trend_ichimoku_base', 'trend_ichimoku_a', 'trend_ichimoku_b',\n",
      "       'trend_stc', 'trend_adx', 'trend_adx_pos', 'trend_adx_neg', 'trend_cci',\n",
      "       'trend_visual_ichimoku_a', 'trend_visual_ichimoku_b', 'trend_aroon_up',\n",
      "       'trend_aroon_down', 'trend_aroon_ind', 'trend_psar_up',\n",
      "       'trend_psar_down', 'trend_psar_up_indicator',\n",
      "       'trend_psar_down_indicator', 'momentum_rsi', 'momentum_stoch_rsi',\n",
      "       'momentum_stoch_rsi_k', 'momentum_stoch_rsi_d', 'momentum_tsi',\n",
      "       'momentum_uo', 'momentum_stoch', 'momentum_stoch_signal', 'momentum_wr',\n",
      "       'momentum_ao', 'momentum_roc', 'momentum_ppo', 'momentum_ppo_signal',\n",
      "       'momentum_ppo_hist', 'momentum_pvo', 'momentum_pvo_signal',\n",
      "       'momentum_pvo_hist', 'momentum_kama', 'others_dr', 'others_dlr',\n",
      "       'others_cr', 'hour', 'minute'],\n",
      "      dtype='object')\n"
     ]
    }
   ],
   "source": [
    "# Restore ddf\n",
    "ddf = ddf_preprocessed\n",
    "print(ddf.columns)"
   ]
  },
  {
   "cell_type": "markdown",
   "id": "165e5412",
   "metadata": {},
   "source": [
    "### Filter dataset"
   ]
  },
  {
   "cell_type": "code",
   "execution_count": null,
   "id": "3409b7bb",
   "metadata": {},
   "outputs": [
    {
     "name": "stderr",
     "output_type": "stream",
     "text": [
      "2025-04-21 21:56:15,087 - distributed.shuffle._scheduler_plugin - WARNING - Shuffle 62a8520bc0c9e42d4861e93d02781d4e initialized by task ('shuffle-transfer-62a8520bc0c9e42d4861e93d02781d4e', 2) executed on worker tcp://127.0.0.1:60613\n",
      "2025-04-21 21:56:17,252 - distributed.shuffle._scheduler_plugin - WARNING - Shuffle 62a8520bc0c9e42d4861e93d02781d4e deactivated due to stimulus 'task-finished-1745286977.251236'\n",
      "2025-04-21 21:56:17,409 - distributed.shuffle._scheduler_plugin - WARNING - Shuffle 938e60bcb36e1a552787ea7641f463c9 initialized by task ('shuffle-transfer-938e60bcb36e1a552787ea7641f463c9', 2) executed on worker tcp://127.0.0.1:60613\n",
      "2025-04-21 21:56:19,517 - distributed.shuffle._scheduler_plugin - WARNING - Shuffle 938e60bcb36e1a552787ea7641f463c9 deactivated due to stimulus 'task-finished-1745286979.5167317'\n",
      "2025-04-21 21:56:19,737 - distributed.shuffle._scheduler_plugin - WARNING - Shuffle b3cb788d69580bccfd49b484431a03d2 initialized by task ('shuffle-transfer-b3cb788d69580bccfd49b484431a03d2', 2) executed on worker tcp://127.0.0.1:60613\n",
      "2025-04-21 21:56:21,659 - distributed.shuffle._scheduler_plugin - WARNING - Shuffle b3cb788d69580bccfd49b484431a03d2 deactivated due to stimulus 'task-finished-1745286981.6580088'\n",
      "2025-04-21 21:56:21,813 - distributed.shuffle._scheduler_plugin - WARNING - Shuffle 15cc9a53e0618f44c9ff4b7fd62c1012 initialized by task ('shuffle-transfer-15cc9a53e0618f44c9ff4b7fd62c1012', 2) executed on worker tcp://127.0.0.1:60613\n",
      "2025-04-21 21:56:23,105 - distributed.shuffle._scheduler_plugin - WARNING - Shuffle 15cc9a53e0618f44c9ff4b7fd62c1012 deactivated due to stimulus 'task-finished-1745286983.1047678'\n",
      "2025-04-21 21:56:23,251 - distributed.shuffle._scheduler_plugin - WARNING - Shuffle 18769235828d7a90f80e9d2671b12787 initialized by task ('shuffle-transfer-18769235828d7a90f80e9d2671b12787', 2) executed on worker tcp://127.0.0.1:60613\n",
      "2025-04-21 21:56:24,542 - distributed.shuffle._scheduler_plugin - WARNING - Shuffle 18769235828d7a90f80e9d2671b12787 deactivated due to stimulus 'task-finished-1745286984.5364807'\n",
      "2025-04-21 21:56:24,746 - distributed.shuffle._scheduler_plugin - WARNING - Shuffle 413e82d0a7947fc261a545a189e5365c initialized by task ('shuffle-transfer-413e82d0a7947fc261a545a189e5365c', 2) executed on worker tcp://127.0.0.1:60613\n",
      "2025-04-21 21:56:25,990 - distributed.shuffle._scheduler_plugin - WARNING - Shuffle 413e82d0a7947fc261a545a189e5365c deactivated due to stimulus 'task-finished-1745286985.9890132'\n"
     ]
    },
    {
     "name": "stdout",
     "output_type": "stream",
     "text": [
      "2016 0     2016-01-13\n",
      "1     2016-01-19\n",
      "2     2016-01-29\n",
      "3     2016-02-01\n",
      "4     2016-02-03\n",
      "         ...    \n",
      "81    2016-12-09\n",
      "82    2016-12-13\n",
      "83    2016-12-14\n",
      "84    2016-12-16\n",
      "85    2016-12-27\n",
      "Name: datetime, Length: 252, dtype: object\n",
      "2017 0     2017-01-03\n",
      "1     2017-01-09\n",
      "2     2017-01-18\n",
      "3     2017-01-24\n",
      "4     2017-01-27\n",
      "         ...    \n",
      "84    2017-12-21\n",
      "85    2017-12-22\n",
      "86    2017-12-26\n",
      "87    2017-12-27\n",
      "88    2017-12-28\n",
      "Name: datetime, Length: 251, dtype: object\n",
      "2018 0     2018-01-03\n",
      "1     2018-01-08\n",
      "2     2018-01-09\n",
      "3     2018-01-10\n",
      "4     2018-01-11\n",
      "         ...    \n",
      "81    2018-11-30\n",
      "82    2018-12-04\n",
      "83    2018-12-12\n",
      "84    2018-12-20\n",
      "85    2018-12-26\n",
      "Name: datetime, Length: 251, dtype: object\n",
      "2019 0     2019-01-07\n",
      "1     2019-01-08\n",
      "2     2019-01-09\n",
      "3     2019-01-10\n",
      "4     2019-01-11\n",
      "         ...    \n",
      "80    2019-11-27\n",
      "81    2019-11-29\n",
      "82    2019-12-16\n",
      "83    2019-12-27\n",
      "84    2019-12-31\n",
      "Name: datetime, Length: 252, dtype: object\n",
      "2020 0     2020-01-03\n",
      "1     2020-01-08\n",
      "2     2020-01-09\n",
      "3     2020-01-13\n",
      "4     2020-01-16\n",
      "         ...    \n",
      "76    2020-12-07\n",
      "77    2020-12-14\n",
      "78    2020-12-17\n",
      "79    2020-12-18\n",
      "80    2020-12-22\n",
      "Name: datetime, Length: 253, dtype: object\n",
      "Date range: 2016-01-04 09:30:00 → 2020-12-31 16:00:00\n",
      "DataFrame columns: ['datetime', 'close', 'trend_sma_fast', 'trend_sma_slow', 'trend_macd_diff', 'trend_adx', 'momentum_rsi', 'momentum_ao', 'volatility_atr', 'volatility_bbw', 'volatility_dcw', 'volume_obv', 'volume_vwap']\n",
      "Empty DataFrame\n",
      "Columns: [datetime, close, trend_sma_fast, trend_sma_slow, trend_macd_diff, trend_adx, momentum_rsi, momentum_ao, volatility_atr, volatility_bbw, volatility_dcw, volume_obv, volume_vwap]\n",
      "Index: []\n",
      "523239\n"
     ]
    }
   ],
   "source": [
    "reduce_dataset = True\n",
    "\n",
    "if reduce_dataset:\n",
    "    # define your cut‑off dates\n",
    "    start, end = \"2016-01-01\", \"2021-01-01\"\n",
    "\n",
    "    # boolean mask on the datetime column\n",
    "    ddf = ddf[(ddf[\"datetime\"] >= start) & (ddf[\"datetime\"] < end)]\n",
    "\n",
    "    # 1) get the year and date Series\n",
    "    years = ddf[\"datetime\"].dt.year\n",
    "    dates = ddf[\"datetime\"].dt.date\n",
    "\n",
    "    # 2) find all unique years (small list)\n",
    "    unique_years = years.unique().compute()\n",
    "\n",
    "    # 3) for each year, filter & collect unique dates\n",
    "    dates_per_year = {}\n",
    "    for y in unique_years:\n",
    "        mask = years == y\n",
    "        #  .unique() on the filtered date‐series\n",
    "        dates_per_year[y] = dates[mask].unique().compute()\n",
    "\n",
    "    # 4) print\n",
    "    for year, ds in sorted(dates_per_year.items()):\n",
    "        print(year, ds)\n",
    "start = ddf[\"datetime\"].min().compute()\n",
    "end = ddf[\"datetime\"].max().compute()\n",
    "print(f\"Date range: {start} → {end}\")\n",
    "\n",
    "# 5. Select features and drop NaNs\n",
    "feature_cols = [\n",
    "    \"datetime\",\n",
    "    \"close\",\n",
    "    \"trend_sma_fast\",\n",
    "    \"trend_sma_slow\",\n",
    "    \"trend_macd_diff\",\n",
    "    \"trend_adx\",\n",
    "    \"momentum_rsi\",\n",
    "    \"momentum_ao\",\n",
    "    \"volatility_atr\",\n",
    "    \"volatility_bbw\",\n",
    "    \"volatility_dcw\",\n",
    "    \"volume_obv\",\n",
    "    \"volume_vwap\",\n",
    "]\n",
    "\n",
    "ddf = ddf[feature_cols].dropna()\n",
    "print(\"DataFrame columns:\", ddf.columns.tolist())\n",
    "print(ddf.head())\n",
    "print(len(ddf))"
   ]
  },
  {
   "cell_type": "markdown",
   "id": "4af69108",
   "metadata": {},
   "source": [
    "## Change point detection\n",
    "Change to pandas dataframe"
   ]
  },
  {
   "cell_type": "code",
   "execution_count": null,
   "id": "8ed5433e",
   "metadata": {},
   "outputs": [],
   "source": [
    "# Dask version\n",
    "# ddf[\"log_return\"] = ddf[\"close\"].map_partitions(np.log).diff().fillna(0)\n",
    "# signal = (\n",
    "#     ddf[\"log_return\"]\n",
    "#     .to_dask_array(lengths=True)  # Dask Array\n",
    "#     .compute()  # NumPy Array\n",
    "#     .reshape(-1, 1)\n",
    "# )\n",
    "\n",
    "# Also pandas version\n",
    "ddf = ddf.repartition(partition_size=\"100MB\")\n",
    "df = ddf.compute()\n",
    "df = df.sort_values(\"datetime\")\n",
    "df[\"log_return\"] = np.log(df[\"close\"]).diff().fillna(0)\n",
    "signal = df[\"log_return\"].values.reshape(-1, 1)"
   ]
  },
  {
   "cell_type": "markdown",
   "id": "78dfae37",
   "metadata": {},
   "source": [
    "Compute trend_id"
   ]
  },
  {
   "cell_type": "code",
   "execution_count": null,
   "id": "b2e2aa53",
   "metadata": {},
   "outputs": [
    {
     "name": "stdout",
     "output_type": "stream",
     "text": [
      "LATEST!!!\n"
     ]
    },
    {
     "name": "stderr",
     "output_type": "stream",
     "text": [
      "NumbaPerformanceWarning: \u001b[1mGrid size 85 will likely result in GPU under-utilization due to low occupancy.\u001b[0m\n"
     ]
    },
    {
     "name": "stdout",
     "output_type": "stream",
     "text": [
      "[MP] done in 5.07s\n",
      "[FLUSS] 31 segments in 1.19s\n"
     ]
    },
    {
     "data": {
      "application/vnd.jupyter.widget-view+json": {
       "model_id": "76a539b937ef444aacbda00b748404af",
       "version_major": 2,
       "version_minor": 0
      },
      "text/plain": [
       "  0%|          | 0/32 [00:00<?, ?it/s]"
      ]
     },
     "metadata": {},
     "output_type": "display_data"
    },
    {
     "name": "stdout",
     "output_type": "stream",
     "text": [
      "[FEAT] done in 0.01s\n",
      "[KMEANS] 5 clusters in 0.24s\n",
      "[0 1 2 0 0 0 3 0 4 0 0 4 0 0 0 4 0 0 4 0 4 0 0 0 4 0 0 0 4 0 0 4]\n"
     ]
    },
    {
     "data": {
      "image/png": "[encoded data removed]",
      "text/plain": [
       "<Figure size 1400x400 with 1 Axes>"
      ]
     },
     "metadata": {},
     "output_type": "display_data"
    },
    {
     "name": "stdout",
     "output_type": "stream",
     "text": [
      "[Timestamp('2016-01-21 23:00:00'), Timestamp('2018-09-09 22:00:00'), Timestamp('2019-03-08 05:00:00'), Timestamp('2019-03-25 20:00:00'), Timestamp('2019-04-15 23:00:00'), Timestamp('2019-05-05 23:00:00'), Timestamp('2019-07-28 20:00:00'), Timestamp('2019-08-15 11:00:00'), Timestamp('2019-09-07 22:00:00'), Timestamp('2019-09-27 10:00:00'), Timestamp('2019-10-15 00:00:00'), Timestamp('2019-11-07 02:00:00'), Timestamp('2019-11-24 17:00:00'), Timestamp('2019-12-12 08:00:00'), Timestamp('2019-12-29 23:00:00'), Timestamp('2020-01-25 17:00:00'), Timestamp('2020-02-12 08:00:00'), Timestamp('2020-02-29 23:00:00'), Timestamp('2020-03-25 13:00:00'), Timestamp('2020-04-13 00:00:00'), Timestamp('2020-05-08 16:00:00'), Timestamp('2020-05-27 00:00:00'), Timestamp('2020-06-13 14:00:00'), Timestamp('2020-07-02 13:00:00'), Timestamp('2020-07-28 12:00:00'), Timestamp('2020-08-17 22:00:00'), Timestamp('2020-09-07 20:00:00'), Timestamp('2020-09-25 10:00:00'), Timestamp('2020-10-21 12:00:00'), Timestamp('2020-11-08 22:00:00'), Timestamp('2020-11-26 13:00:00')]\n",
      "[0 1 2 3 4]\n"
     ]
    }
   ],
   "source": [
    "import importlib\n",
    "import final_project_utils\n",
    "\n",
    "importlib.reload(final_project_utils)\n",
    "from final_project_utils import *\n",
    "\n",
    "print_version()\n",
    "\n",
    "break_times = add_trend_id(df, n_regimes=32, window_size=13 * 5 * 6.5, n_clusters=5)\n",
    "print(df[\"trend_id\"].unique())"
   ]
  },
  {
   "cell_type": "code",
   "execution_count": null,
   "id": "932f54ec",
   "metadata": {},
   "outputs": [],
   "source": [
    "def save_break_points(bp_file, new_bps):\n",
    "    # load existing as a set, or start empty\n",
    "    if os.path.exists(bp_file):\n",
    "        with open(bp_file, \"rb\") as f:\n",
    "            break_points = set(pickle.load(f))\n",
    "    else:\n",
    "        break_points = set()\n",
    "\n",
    "    # add new ones\n",
    "    break_points |= set(new_bps)\n",
    "\n",
    "    # overwrite back to disk\n",
    "    with open(bp_file, \"wb\") as f:\n",
    "        pickle.dump(break_points, f)\n",
    "\n",
    "\n",
    "bp_file = \"break_points.pkl\"\n",
    "save_break_points(bp_file, break_times)"
   ]
  }
 ],
 "metadata": {
  "kernelspec": {
   "display_name": "Python 3",
   "language": "python",
   "name": "python3"
  },
  "language_info": {
   "codemirror_mode": {
    "name": "ipython",
    "version": 3
   },
   "file_extension": ".py",
   "mimetype": "text/x-python",
   "name": "python",
   "nbconvert_exporter": "python",
   "pygments_lexer": "ipython3",
   "version": "3.12.9"
  }
 },
 "nbformat": 4,
 "nbformat_minor": 5
}
