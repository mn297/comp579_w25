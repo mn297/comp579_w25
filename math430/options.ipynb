{
 "cells": [
  {
   "cell_type": "code",
   "execution_count": null,
   "metadata": {
    "vscode": {
     "languageId": "plaintext"
    }
   },
   "outputs": [],
   "source": [
    "import yfinance as yf\n",
    "import numpy as np\n",
    "import pandas as pd\n",
    "\n",
    "# Function to compute annualized historical volatility (HV)\n",
    "def compute_hv(ticker_obj, window=30):\n",
    "    # Get recent historical data over a fixed period (60 days gives ample data)\n",
    "    hist = ticker_obj.history(period='60d')\n",
    "    # Compute the log returns: r_t = ln(Close_t / Close_{t-1})\n",
    "    hist['LogReturn'] = np.log(hist['Close'] / hist['Close'].shift(1))\n",
    "    # Drop missing values from first NaN after computing returns\n",
    "    hist = hist.dropna()\n",
    "    # The sample standard deviation of daily log returns multiplied by sqrt(252) to annualize\n",
    "    hv = np.std(hist['LogReturn']) * np.sqrt(252)\n",
    "    return hv, hist\n",
    "\n",
    "# Function to benchmark option prices by comparing their IV to the computed HV\n",
    "def benchmark_option_prices(symbol, expiration_date):\n",
    "    # Load the ticker object using yfinance\n",
    "    ticker_obj = yf.Ticker(symbol)\n",
    "    \n",
    "    # Compute the historical volatility (HV)\n",
    "    hv, hist = compute_hv(ticker_obj)\n",
    "    print(\"Historical Volatility (annualized): {:.2%}\".format(hv))\n",
    "    \n",
    "    # Fetch the option chain data for the specified expiration date\n",
    "    chain = ticker_obj.option_chain(expiration_date)\n",
    "    # For demonstration we'll focus on calls. You can similarly process puts if desired.\n",
    "    calls = chain.calls.copy()\n",
    "    \n",
    "    # Compute the mid price as the average of the bid and ask prices.\n",
    "    # This is our benchmark price for the option.\n",
    "    calls['mid'] = (calls['bid'] + calls['ask']) / 2\n",
    "    \n",
    "    # If the 'impliedVolatility' column is available, calculate the IV/HV ratio.\n",
    "    if 'impliedVolatility' in calls.columns:\n",
    "        # The IV/HV ratio helps assess overpricing:\n",
    "        #   > 1 implies option IV is above historical levels (potentially overpriced),\n",
    "        #   ≈ 1 indicates fair pricing,\n",
    "        #   < 1 indicates IV is below historical levels.\n",
    "        calls['IV/HV'] = calls['impliedVolatility'] / hv\n",
    "    else:\n",
    "        print(\"Implied Volatility data is not available in the chain.\")\n",
    "    \n",
    "    # Sort by strike and display selected key columns.\n",
    "    result = calls[['contractSymbol', 'strike', 'mid', 'impliedVolatility', 'IV/HV']].sort_values('strike')\n",
    "    print(result)\n",
    "    \n",
    "if __name__ == \"__main__\":\n",
    "    # Define your symbol. For example, use Apple Inc.\n",
    "    symbol = \"AAPL\"\n",
    "    \n",
    "    # Instantiate the ticker object to fetch available option expiration dates.\n",
    "    ticker_obj = yf.Ticker(symbol)\n",
    "    expirations = ticker_obj.options\n",
    "    print(\"Available Expirations: \", expirations)\n",
    "    \n",
    "    # Choose an expiration date for benchmarking (e.g., the first available)\n",
    "    expiration_date = expirations[0]\n",
    "    \n",
    "    # Run the benchmark function\n",
    "    benchmark_option_prices(symbol, expiration_date)\n"
   ]
  },
  {
   "cell_type": "code",
   "execution_count": null,
   "metadata": {
    "vscode": {
     "languageId": "plaintext"
    }
   },
   "outputs": [],
   "source": []
  }
 ],
 "metadata": {
  "language_info": {
   "name": "python"
  }
 },
 "nbformat": 4,
 "nbformat_minor": 2
}
