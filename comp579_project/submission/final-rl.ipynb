{
 "cells": [
  {
   "cell_type": "code",
   "execution_count": null,
   "id": "5336fafe-5dcd-415b-9146-a69855b2d3cf",
   "metadata": {
    "execution": {
     "iopub.execute_input": "2025-04-23T13:59:51.718824Z",
     "iopub.status.busy": "2025-04-23T13:59:51.718572Z",
     "iopub.status.idle": "2025-04-23T14:00:10.283723Z",
     "shell.execute_reply": "2025-04-23T14:00:10.282914Z",
     "shell.execute_reply.started": "2025-04-23T13:59:51.718807Z"
    },
    "trusted": true
   },
   "outputs": [
    {
     "data": {
      "text/plain": [
       "'!pip install finrl\\n!pip install alpaca_trade_api\\n!pip install exchange_calendars\\n!pip install stockstats\\n!pip install wrds\\n!pip install yfinance'"
      ]
     },
     "execution_count": 10,
     "metadata": {},
     "output_type": "execute_result"
    }
   ],
   "source": [
    "\"\"\"!pip install finrl\n",
    "!pip install alpaca_trade_api\n",
    "!pip install exchange_calendars\n",
    "!pip install stockstats\n",
    "!pip install wrds\n",
    "!pip install yfinance\"\"\"\n",
    "\n",
    "# %pip install exchange_calendars yfinance finrl stockstats wrds alpaca_trade_api gymnasium matplotlib numpy pandas seaborn stable-baselines3 ale-py gym-anytrading tqdm scipy scikit-learn dask-ml tqdm rich\n"
   ]
  },
  {
   "cell_type": "code",
   "execution_count": 13,
   "id": "828fc3dd",
   "metadata": {
    "execution": {
     "iopub.execute_input": "2025-04-23T14:00:15.533499Z",
     "iopub.status.busy": "2025-04-23T14:00:15.533178Z",
     "iopub.status.idle": "2025-04-23T14:00:15.540587Z",
     "shell.execute_reply": "2025-04-23T14:00:15.539619Z",
     "shell.execute_reply.started": "2025-04-23T14:00:15.533473Z"
    },
    "trusted": true
   },
   "outputs": [],
   "source": [
    "import os\n",
    "import pandas as pd\n",
    "import numpy as np\n",
    "import yfinance as yf\n",
    "import heapq\n",
    "import random\n",
    "import torch\n",
    "from scipy.spatial import KDTree\n",
    "from torch import nn\n",
    "import itertools\n",
    "import IPython.display\n",
    "import gc\n",
    "from tqdm import tqdm\n",
    "import re\n",
    "import copy  \n",
    "\n",
    "import gymnasium as gym\n",
    "import matplotlib\n",
    "import matplotlib.pyplot as plt\n",
    "import numpy as np\n",
    "import pandas as pd\n",
    "from gymnasium import spaces\n",
    "from gymnasium.utils import seeding\n",
    "from stable_baselines3.common.vec_env import DummyVecEnv\n",
    "\n",
    "from finrl.meta.data_processor import DataProcessor\n",
    "from finrl.meta.preprocessor.preprocessors import FeatureEngineer, data_split\n",
    "from finrl.meta.env_stock_trading.env_stocktrading import StockTradingEnv\n",
    "\n",
    "from finrl.agents.stablebaselines3.models import DRLAgent\n",
    "from finrl.config import TRAINED_MODEL_DIR, RESULTS_DIR\n",
    "from finrl.main import check_and_make_directories\n",
    "# from finrl.plot import backtest_plot\n",
    "\n",
    "\n",
    "from stable_baselines3 import DQN, SAC\n",
    "from stable_baselines3.common.vec_env import DummyVecEnv, VecMonitor\n",
    "from stable_baselines3.common.callbacks import EvalCallback, CheckpointCallback\n",
    "from stable_baselines3.common.buffers import *\n",
    "from stable_baselines3.common.logger import configure\n",
    "from stable_baselines3.common.callbacks import ProgressBarCallback\n",
    "\n",
    "%matplotlib inline"
   ]
  },
  {
   "cell_type": "code",
   "execution_count": 2,
   "id": "184d9fdb",
   "metadata": {
    "execution": {
     "iopub.execute_input": "2025-04-23T14:01:08.376982Z",
     "iopub.status.busy": "2025-04-23T14:01:08.376276Z",
     "iopub.status.idle": "2025-04-23T14:01:09.723375Z",
     "shell.execute_reply": "2025-04-23T14:01:09.722723Z",
     "shell.execute_reply.started": "2025-04-23T14:01:08.376951Z"
    },
    "trusted": true
   },
   "outputs": [
    {
     "name": "stderr",
     "output_type": "stream",
     "text": [
      "[*********************100%***********************]  1 of 1 completed"
     ]
    },
    {
     "name": "stdout",
     "output_type": "stream",
     "text": [
      "Shape of DataFrame:  (3907, 7)\n"
     ]
    },
    {
     "name": "stderr",
     "output_type": "stream",
     "text": [
      "\n",
      "C:\\Users\\john\\AppData\\Local\\Temp\\ipykernel_2440\\3656713659.py:35: PerformanceWarning: dropping on a non-lexsorted multi-index without a level parameter may impact performance.\n",
      "  data_df = data_df.drop(columns=[\"adjcp\"])\n"
     ]
    },
    {
     "data": {
      "text/html": [
       "<div>\n",
       "<style scoped>\n",
       "    .dataframe tbody tr th:only-of-type {\n",
       "        vertical-align: middle;\n",
       "    }\n",
       "\n",
       "    .dataframe tbody tr th {\n",
       "        vertical-align: top;\n",
       "    }\n",
       "\n",
       "    .dataframe thead th {\n",
       "        text-align: right;\n",
       "    }\n",
       "</style>\n",
       "<table border=\"1\" class=\"dataframe\">\n",
       "  <thead>\n",
       "    <tr style=\"text-align: right;\">\n",
       "      <th>Price</th>\n",
       "      <th>date</th>\n",
       "      <th>close</th>\n",
       "      <th>high</th>\n",
       "      <th>low</th>\n",
       "      <th>open</th>\n",
       "      <th>volume</th>\n",
       "      <th>tic</th>\n",
       "    </tr>\n",
       "  </thead>\n",
       "  <tbody>\n",
       "    <tr>\n",
       "      <th>0</th>\n",
       "      <td>2009-01-01</td>\n",
       "      <td>1.399894</td>\n",
       "      <td>1.405402</td>\n",
       "      <td>1.395498</td>\n",
       "      <td>1.397995</td>\n",
       "      <td>0</td>\n",
       "      <td>EURUSD=X</td>\n",
       "    </tr>\n",
       "    <tr>\n",
       "      <th>1</th>\n",
       "      <td>2009-01-02</td>\n",
       "      <td>1.392292</td>\n",
       "      <td>1.402308</td>\n",
       "      <td>1.384294</td>\n",
       "      <td>1.400266</td>\n",
       "      <td>0</td>\n",
       "      <td>EURUSD=X</td>\n",
       "    </tr>\n",
       "    <tr>\n",
       "      <th>2</th>\n",
       "      <td>2009-01-05</td>\n",
       "      <td>1.364592</td>\n",
       "      <td>1.395790</td>\n",
       "      <td>1.355601</td>\n",
       "      <td>1.395790</td>\n",
       "      <td>0</td>\n",
       "      <td>EURUSD=X</td>\n",
       "    </tr>\n",
       "    <tr>\n",
       "      <th>3</th>\n",
       "      <td>2009-01-06</td>\n",
       "      <td>1.351004</td>\n",
       "      <td>1.363178</td>\n",
       "      <td>1.331806</td>\n",
       "      <td>1.363178</td>\n",
       "      <td>0</td>\n",
       "      <td>EURUSD=X</td>\n",
       "    </tr>\n",
       "    <tr>\n",
       "      <th>4</th>\n",
       "      <td>2009-01-07</td>\n",
       "      <td>1.361100</td>\n",
       "      <td>1.374193</td>\n",
       "      <td>1.343725</td>\n",
       "      <td>1.349947</td>\n",
       "      <td>0</td>\n",
       "      <td>EURUSD=X</td>\n",
       "    </tr>\n",
       "  </tbody>\n",
       "</table>\n",
       "</div>"
      ],
      "text/plain": [
       "Price        date     close      high       low      open  volume       tic\n",
       "0      2009-01-01  1.399894  1.405402  1.395498  1.397995       0  EURUSD=X\n",
       "1      2009-01-02  1.392292  1.402308  1.384294  1.400266       0  EURUSD=X\n",
       "2      2009-01-05  1.364592  1.395790  1.355601  1.395790       0  EURUSD=X\n",
       "3      2009-01-06  1.351004  1.363178  1.331806  1.363178       0  EURUSD=X\n",
       "4      2009-01-07  1.361100  1.374193  1.343725  1.349947       0  EURUSD=X"
      ]
     },
     "execution_count": 2,
     "metadata": {},
     "output_type": "execute_result"
    }
   ],
   "source": [
    "# for the EURUSD=X data\n",
    "\n",
    "TRAIN_START_DATE = \"2009-01-01\"\n",
    "TRAIN_END_DATE = \"2019-10-01\"\n",
    "TEST_START_DATE = \"2019-10-01\"\n",
    "TEST_END_DATE = \"2024-01-01\"\n",
    "\n",
    "dfs = []\n",
    "ticker = \"EURUSD=X\"\n",
    "temp_df = yf.download(\n",
    "    [ticker],\n",
    "    start=TRAIN_START_DATE,\n",
    "    end=TEST_END_DATE,\n",
    "    auto_adjust=False,\n",
    ")\n",
    "temp_df[\"tic\"] = ticker\n",
    "dfs.append(temp_df)\n",
    "\n",
    "data_df = pd.concat(dfs)\n",
    "data_df = data_df.reset_index()\n",
    "\n",
    "\n",
    "data_df = data_df.rename(\n",
    "    columns={\n",
    "        \"Date\": \"date\",\n",
    "        \"Open\": \"open\",\n",
    "        \"High\": \"high\",\n",
    "        \"Low\": \"low\",\n",
    "        \"Close\": \"close\",\n",
    "        \"Adj Close\": \"adjcp\",\n",
    "        \"Volume\": \"volume\",\n",
    "    }\n",
    ")\n",
    "\n",
    "data_df = data_df.drop(columns=[\"adjcp\"])\n",
    "data_df[\"date\"] = data_df.date.apply(lambda x: x.strftime(\"%Y-%m-%d\"))\n",
    "\n",
    "# drop missing data\n",
    "data_df = data_df.dropna()\n",
    "data_df = data_df.reset_index(drop=True)\n",
    "print(\"Shape of DataFrame: \", data_df.shape)\n",
    "\n",
    "data_df = data_df.sort_values(by=[\"date\", \"tic\"]).reset_index(drop=True)\n",
    "data_df.columns = data_df.columns.get_level_values(0)\n",
    "\n",
    "data_df.head()"
   ]
  },
  {
   "cell_type": "code",
   "execution_count": 3,
   "id": "b5c9c26f",
   "metadata": {},
   "outputs": [
    {
     "name": "stdout",
     "output_type": "stream",
     "text": [
      "Successfully added technical indicators\n",
      "Successfully added turbulence index\n"
     ]
    },
    {
     "data": {
      "text/html": [
       "<div>\n",
       "<style scoped>\n",
       "    .dataframe tbody tr th:only-of-type {\n",
       "        vertical-align: middle;\n",
       "    }\n",
       "\n",
       "    .dataframe tbody tr th {\n",
       "        vertical-align: top;\n",
       "    }\n",
       "\n",
       "    .dataframe thead th {\n",
       "        text-align: right;\n",
       "    }\n",
       "</style>\n",
       "<table border=\"1\" class=\"dataframe\">\n",
       "  <thead>\n",
       "    <tr style=\"text-align: right;\">\n",
       "      <th></th>\n",
       "      <th>date</th>\n",
       "      <th>close</th>\n",
       "      <th>high</th>\n",
       "      <th>low</th>\n",
       "      <th>open</th>\n",
       "      <th>volume</th>\n",
       "      <th>tic</th>\n",
       "      <th>macd</th>\n",
       "      <th>rsi_30</th>\n",
       "      <th>cci_30</th>\n",
       "      <th>dx_30</th>\n",
       "      <th>turbulence</th>\n",
       "    </tr>\n",
       "  </thead>\n",
       "  <tbody>\n",
       "    <tr>\n",
       "      <th>0</th>\n",
       "      <td>2009-01-01</td>\n",
       "      <td>1.399894</td>\n",
       "      <td>1.405402</td>\n",
       "      <td>1.395498</td>\n",
       "      <td>1.397995</td>\n",
       "      <td>0</td>\n",
       "      <td>EURUSD=X</td>\n",
       "      <td>0.000000</td>\n",
       "      <td>0.000000</td>\n",
       "      <td>-66.666667</td>\n",
       "      <td>100.00000</td>\n",
       "      <td>0.0</td>\n",
       "    </tr>\n",
       "    <tr>\n",
       "      <th>1</th>\n",
       "      <td>2009-01-02</td>\n",
       "      <td>1.392292</td>\n",
       "      <td>1.402308</td>\n",
       "      <td>1.384294</td>\n",
       "      <td>1.400266</td>\n",
       "      <td>0</td>\n",
       "      <td>EURUSD=X</td>\n",
       "      <td>-0.000171</td>\n",
       "      <td>0.000000</td>\n",
       "      <td>-66.666667</td>\n",
       "      <td>100.00000</td>\n",
       "      <td>0.0</td>\n",
       "    </tr>\n",
       "    <tr>\n",
       "      <th>2</th>\n",
       "      <td>2009-01-05</td>\n",
       "      <td>1.364592</td>\n",
       "      <td>1.395790</td>\n",
       "      <td>1.355601</td>\n",
       "      <td>1.395790</td>\n",
       "      <td>0</td>\n",
       "      <td>EURUSD=X</td>\n",
       "      <td>-0.001076</td>\n",
       "      <td>0.000000</td>\n",
       "      <td>-100.000000</td>\n",
       "      <td>100.00000</td>\n",
       "      <td>0.0</td>\n",
       "    </tr>\n",
       "    <tr>\n",
       "      <th>3</th>\n",
       "      <td>2009-01-06</td>\n",
       "      <td>1.351004</td>\n",
       "      <td>1.363178</td>\n",
       "      <td>1.331806</td>\n",
       "      <td>1.363178</td>\n",
       "      <td>0</td>\n",
       "      <td>EURUSD=X</td>\n",
       "      <td>-0.001952</td>\n",
       "      <td>0.000000</td>\n",
       "      <td>-109.532557</td>\n",
       "      <td>100.00000</td>\n",
       "      <td>0.0</td>\n",
       "    </tr>\n",
       "    <tr>\n",
       "      <th>4</th>\n",
       "      <td>2009-01-07</td>\n",
       "      <td>1.361100</td>\n",
       "      <td>1.374193</td>\n",
       "      <td>1.343725</td>\n",
       "      <td>1.349947</td>\n",
       "      <td>0</td>\n",
       "      <td>EURUSD=X</td>\n",
       "      <td>-0.001986</td>\n",
       "      <td>18.033635</td>\n",
       "      <td>-57.219889</td>\n",
       "      <td>68.95011</td>\n",
       "      <td>0.0</td>\n",
       "    </tr>\n",
       "  </tbody>\n",
       "</table>\n",
       "</div>"
      ],
      "text/plain": [
       "         date     close      high       low      open  volume       tic  \\\n",
       "0  2009-01-01  1.399894  1.405402  1.395498  1.397995       0  EURUSD=X   \n",
       "1  2009-01-02  1.392292  1.402308  1.384294  1.400266       0  EURUSD=X   \n",
       "2  2009-01-05  1.364592  1.395790  1.355601  1.395790       0  EURUSD=X   \n",
       "3  2009-01-06  1.351004  1.363178  1.331806  1.363178       0  EURUSD=X   \n",
       "4  2009-01-07  1.361100  1.374193  1.343725  1.349947       0  EURUSD=X   \n",
       "\n",
       "       macd     rsi_30      cci_30      dx_30  turbulence  \n",
       "0  0.000000   0.000000  -66.666667  100.00000         0.0  \n",
       "1 -0.000171   0.000000  -66.666667  100.00000         0.0  \n",
       "2 -0.001076   0.000000 -100.000000  100.00000         0.0  \n",
       "3 -0.001952   0.000000 -109.532557  100.00000         0.0  \n",
       "4 -0.001986  18.033635  -57.219889   68.95011         0.0  "
      ]
     },
     "execution_count": 3,
     "metadata": {},
     "output_type": "execute_result"
    }
   ],
   "source": [
    "INDICATORS = [\"macd\", \"rsi_30\", \"cci_30\", \"dx_30\"]\n",
    "\n",
    "fe = FeatureEngineer(\n",
    "    use_technical_indicator=True,\n",
    "    tech_indicator_list=INDICATORS,\n",
    "    use_vix=False,\n",
    "    use_turbulence=True,\n",
    "    user_defined_feature=False,\n",
    ")\n",
    "\n",
    "processed = fe.preprocess_data(data_df)\n",
    "# processed = fe.add_vix(processed)\n",
    "processed.head()"
   ]
  },
  {
   "cell_type": "code",
   "execution_count": 4,
   "id": "a4a14e1f",
   "metadata": {},
   "outputs": [
    {
     "name": "stdout",
     "output_type": "stream",
     "text": [
      "5476\n",
      "5476\n"
     ]
    }
   ],
   "source": [
    "list_ticker = processed[\"tic\"].unique().tolist()\n",
    "list_date = list(\n",
    "    pd.date_range(processed[\"date\"].min(), processed[\"date\"].max()).astype(str)\n",
    ")\n",
    "combination = list(itertools.product(list_date, list_ticker))\n",
    "print(len(list_date))\n",
    "print(len(combination))"
   ]
  },
  {
   "cell_type": "code",
   "execution_count": 5,
   "id": "3692c55a",
   "metadata": {},
   "outputs": [],
   "source": [
    "processed_full = pd.DataFrame(combination, columns=[\"date\", \"tic\"]).merge(\n",
    "    processed, on=[\"date\", \"tic\"], how=\"left\"\n",
    ")\n",
    "processed_full = processed_full[processed_full[\"date\"].isin(processed[\"date\"])]\n",
    "processed_full = processed_full.sort_values([\"date\", \"tic\"])\n",
    "\n",
    "processed_full = processed_full.fillna(0)"
   ]
  },
  {
   "cell_type": "code",
   "execution_count": 6,
   "id": "a79cc01c",
   "metadata": {},
   "outputs": [
    {
     "name": "stdout",
     "output_type": "stream",
     "text": [
      "2798\n",
      "1109\n",
      "         date       tic     close      high       low      open  volume  \\\n",
      "0  2009-01-01  EURUSD=X  1.399894  1.405402  1.395498  1.397995     0.0   \n",
      "1  2009-01-02  EURUSD=X  1.392292  1.402308  1.384294  1.400266     0.0   \n",
      "2  2009-01-05  EURUSD=X  1.364592  1.395790  1.355601  1.395790     0.0   \n",
      "3  2009-01-06  EURUSD=X  1.351004  1.363178  1.331806  1.363178     0.0   \n",
      "4  2009-01-07  EURUSD=X  1.361100  1.374193  1.343725  1.349947     0.0   \n",
      "\n",
      "       macd     rsi_30      cci_30      dx_30  turbulence  \n",
      "0  0.000000   0.000000  -66.666667  100.00000         0.0  \n",
      "1 -0.000171   0.000000  -66.666667  100.00000         0.0  \n",
      "2 -0.001076   0.000000 -100.000000  100.00000         0.0  \n",
      "3 -0.001952   0.000000 -109.532557  100.00000         0.0  \n",
      "4 -0.001986  18.033635  -57.219889   68.95011         0.0  \n"
     ]
    }
   ],
   "source": [
    "train_df = data_split(processed_full, TRAIN_START_DATE, TRAIN_END_DATE)\n",
    "trade_df = data_split(processed_full, TEST_START_DATE, TEST_END_DATE)\n",
    "print(len(train_df))\n",
    "print(len(trade_df))\n",
    "\n",
    "# Save to file\n",
    "# train.to_csv('train_data.csv')\n",
    "# trade.to_csv('trade_data.csv')\n",
    "\n",
    "# train = train.set_index(\"date\", drop=False)\n",
    "# train.index.names = [\"\"]\n",
    "print(train_df.head())\n",
    "\n",
    "# trade = trade.set_index(\"date\", drop=False)\n",
    "# trade.index.names = [\"\"]"
   ]
  },
  {
   "cell_type": "code",
   "execution_count": 47,
   "id": "128592fd",
   "metadata": {
    "execution": {
     "iopub.execute_input": "2025-04-23T14:05:33.761978Z",
     "iopub.status.busy": "2025-04-23T14:05:33.761213Z",
     "iopub.status.idle": "2025-04-23T14:05:33.767382Z",
     "shell.execute_reply": "2025-04-23T14:05:33.766790Z",
     "shell.execute_reply.started": "2025-04-23T14:05:33.761945Z"
    },
    "trusted": true
   },
   "outputs": [
    {
     "name": "stdout",
     "output_type": "stream",
     "text": [
      "Stock Dimension: 1, State Space: 7\n",
      "<class 'stable_baselines3.common.vec_env.vec_monitor.VecMonitor'>\n"
     ]
    }
   ],
   "source": [
    "import importlib\n",
    "import final_project_utils\n",
    "\n",
    "\n",
    "importlib.reload(final_project_utils)\n",
    "from final_project_utils import *\n",
    "\n",
    "\n",
    "INDICATORS = [\"macd\", \"rsi_30\", \"cci_30\", \"dx_30\"]\n",
    "\n",
    "stock_dimension = len(train_df.tic.unique())\n",
    "state_space = 1 + 2 * stock_dimension + len(INDICATORS) * stock_dimension\n",
    "print(f\"Stock Dimension: {stock_dimension}, State Space: {state_space}\")\n",
    "\n",
    "buy_cost_list = sell_cost_list = [0.001] * stock_dimension\n",
    "num_stock_shares = [0] * stock_dimension\n",
    "\n",
    "env_kwargs = {\n",
    "    \"hmax\": 100,\n",
    "    \"initial_amount\": 1000000,\n",
    "    \"num_stock_shares\": num_stock_shares,\n",
    "    \"buy_cost_pct\": buy_cost_list,\n",
    "    \"sell_cost_pct\": sell_cost_list,\n",
    "    \"state_space\": state_space,\n",
    "    \"stock_dim\": stock_dimension,\n",
    "    \"tech_indicator_list\": INDICATORS,\n",
    "    \"action_space\": stock_dimension,\n",
    "    \"reward_scaling\": 1e-2,\n",
    "}\n",
    "\n",
    "e_train_gym = StockTradingEnv(df=train_df, **env_kwargs)\n",
    "e_eval_gym = StockTradingEnv(df=trade_df, **env_kwargs)\n",
    "\n",
    "env_train, _ = e_train_gym.get_sb_env()\n",
    "\n",
    "env_eval, _ = e_eval_gym.get_sb_env()\n",
    "\n",
    "env_train = VecMonitor(\n",
    "    DummyVecEnv([lambda: StockTradingEnv(df=train_df, **env_kwargs)])\n",
    ")\n",
    "env_eval = VecMonitor(DummyVecEnv([lambda: StockTradingEnv(df=trade_df, **env_kwargs)]))\n",
    "\n",
    "print(type(env_train))"
   ]
  },
  {
   "cell_type": "code",
   "execution_count": 43,
   "id": "799e4c68",
   "metadata": {},
   "outputs": [
    {
     "name": "stdout",
     "output_type": "stream",
     "text": [
      "Initializing...\n",
      "{'replay_buffer_class': <class 'stable_baselines3.common.buffers.ReplayBuffer'>}\n",
      "Using cuda device\n",
      "Logging to ./train_logs/sac_fifo_config\n"
     ]
    },
    {
     "data": {
      "application/vnd.jupyter.widget-view+json": {
       "model_id": "5b10d64a87444afd96a2c4523f46d214",
       "version_major": 2,
       "version_minor": 0
      },
      "text/plain": [
       "Output()"
      ]
     },
     "metadata": {},
     "output_type": "display_data"
    },
    {
     "name": "stdout",
     "output_type": "stream",
     "text": [
      "Training...\n"
     ]
    },
    {
     "data": {
      "text/html": [
       "<pre style=\"white-space:pre;overflow-x:auto;line-height:normal;font-family:Menlo,'DejaVu Sans Mono',consolas,'Courier New',monospace\"></pre>\n"
      ],
      "text/plain": []
     },
     "metadata": {},
     "output_type": "display_data"
    },
    {
     "name": "stdout",
     "output_type": "stream",
     "text": [
      "hit end!\n",
      "Backtesting complete.\n",
      "Processing results...\n",
      "Plotting results...\n"
     ]
    },
    {
     "data": {
      "text/plain": [
       "<Figure size 1500x500 with 0 Axes>"
      ]
     },
     "metadata": {},
     "output_type": "display_data"
    },
    {
     "data": {
      "image/png": "[encoded data removed]",
      "text/plain": [
       "<Figure size 1500x500 with 1 Axes>"
      ]
     },
     "metadata": {},
     "output_type": "display_data"
    },
    {
     "name": "stdout",
     "output_type": "stream",
     "text": [
      "Backtesting complete.\n",
      "Processing actions...\n",
      "Plotting results...\n"
     ]
    },
    {
     "data": {
      "image/png": "[encoded data removed]",
      "text/plain": [
       "<Figure size 1500x500 with 1 Axes>"
      ]
     },
     "metadata": {},
     "output_type": "display_data"
    }
   ],
   "source": [
    "agent = DRLAgent(env=env_train)\n",
    "\n",
    "\n",
    "sac_model_kwargs = dict(\n",
    "    device=\"cuda\",\n",
    "    batch_size=256,\n",
    "    buffer_size=100_000,\n",
    "    learning_rate=1e-3,\n",
    "    learning_starts=200,\n",
    "    target_update_interval=1,\n",
    "    ent_coef=\"auto_1.0\",\n",
    "    use_sde=True,\n",
    "    sde_sample_freq=4,\n",
    ")\n",
    "\n",
    "a2c_model_kwargs = dict(\n",
    "    device=\"cuda\",\n",
    ")\n",
    "\n",
    "ppo_model_kwargs = dict(\n",
    "    device=\"cuda\",\n",
    ")\n",
    "\n",
    "base_config = {\n",
    "    \"log_dir\": \"./train_logs/base\",\n",
    "    \"n_envs\": 1,  # number of parallel environments to use for training\n",
    "    \"checkpoint\": None,  # path to a checkpoint to load from\n",
    "    \"checkpoint_freq\": 10000,  # save a model checkpoint every _ steps\n",
    "    \"eval_freq\": 5000,  # evaluate the model every _ steps\n",
    "    \"n_eval_episodes\": 10,  # number of episodes to evaluate the model on\n",
    "    \"n_train_timesteps\": int(2e3),  # total number of training steps\n",
    "    \"verbose_training\": False,\n",
    "    # RL PARAMETERS (all set to defaults right now, except for seed)\n",
    "    # \"policy_args\": {\n",
    "    #     \"net_arch\": [64, 64],\n",
    "    #     \"activation_fn\": nn.ReLU,\n",
    "    # },\n",
    "    \"model_kwargs\": {},\n",
    "}\n",
    "\n",
    "policy_kwargs = None\n",
    "\n",
    "sac_fifo_config = copy.deepcopy(base_config)\n",
    "sac_fifo_config[\"log_dir\"] = \"./train_logs/sac_fifo_config\"\n",
    "sac_fifo_config[\"policy_kwargs\"] = policy_kwargs\n",
    "sac_fifo_config[\"model_kwargs\"][\"replay_buffer_class\"] = ReplayBuffer\n",
    "\n",
    "sac_ser_config = copy.deepcopy(base_config)\n",
    "sac_ser_config[\"log_dir\"] = \"./train_logs/sac_ser_config\"\n",
    "sac_ser_config[\"policy_kwargs\"] = policy_kwargs\n",
    "sac_ser_config[\"model_kwargs\"][\"replay_buffer_class\"] = SERReplayBuffer\n",
    "replay_buffer_kwargs = {\n",
    "    \"strategy\": \"coverage\",\n",
    "    \"long_mem_size\": 20_000\n",
    "}\n",
    "sac_ser_config[\"model_kwargs\"][\"replay_buffer_kwargs\"] = replay_buffer_kwargs\n",
    "\n",
    "\n",
    "a2c_fifo_config = copy.deepcopy(base_config)\n",
    "a2c_fifo_config[\"log_dir\"] = \"./train_logs/a2c_fifo_config\"\n",
    "a2c_fifo_config[\"policy_kwargs\"] = policy_kwargs\n",
    "\n",
    "\n",
    "ppo_fifo_config = copy.deepcopy(base_config)\n",
    "ppo_fifo_config[\"log_dir\"] = \"./train_logs/ppo_fifo_config\"\n",
    "ppo_fifo_config[\"policy_kwargs\"] = policy_kwargs\n",
    "\n",
    "\n",
    "IPython.display.clear_output(wait=True)\n",
    "gc.collect()\n",
    "tqdm._instances.clear()\n",
    "\n",
    "model_sac = train_rl(agent, env_train, env_eval, \"sac\", sac_fifo_config)\n",
    "plot_model(model_sac, e_eval_gym, deterministic=True)\n",
    "\n",
    "# model_sac_ser = train_rl(agent, env_train, env_eval, \"sac\", sac_ser_config)\n",
    "# plot_model(model_sac_ser, e_eval_gym, deterministic=True)\n",
    "\n",
    "# model_a2c = train_rl(agent, env_train, env_eval, \"a2c\", a2c_fifo_config)\n",
    "# plot_model(model_a2c, e_eval_gym, deterministic=True)\n",
    "\n",
    "# model_ppo = train_rl(agent, env_train, env_eval, \"ppo\", ppo_fifo_config)\n",
    "# plot_model(model_ppo, e_eval_gym, deterministic=True)"
   ]
  }
 ],
 "metadata": {
  "kaggle": {
   "accelerator": "nvidiaTeslaT4",
   "dataSources": [
    {
     "datasetId": 7231603,
     "sourceId": 11529734,
     "sourceType": "datasetVersion"
    }
   ],
   "dockerImageVersionId": 31011,
   "isGpuEnabled": true,
   "isInternetEnabled": true,
   "language": "python",
   "sourceType": "notebook"
  },
  "kernelspec": {
   "display_name": "Python 3",
   "language": "python",
   "name": "python3"
  },
  "language_info": {
   "codemirror_mode": {
    "name": "ipython",
    "version": 3
   },
   "file_extension": ".py",
   "mimetype": "text/x-python",
   "name": "python",
   "nbconvert_exporter": "python",
   "pygments_lexer": "ipython3",
   "version": "3.12.9"
  }
 },
 "nbformat": 4,
 "nbformat_minor": 5
}
