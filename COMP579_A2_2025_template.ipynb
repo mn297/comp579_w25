{
  "cells": [
    {
      "cell_type": "markdown",
      "metadata": {
        "id": "ALnFQQHn1QME"
      },
      "source": [
        "# COMP579 Assignment 2\n",
        "\n",
        "**Coding: Tabular RL [70 points]**"
      ]
    },
    {
      "cell_type": "code",
      "execution_count": null,
      "metadata": {
        "id": "VlHR8XcY483f"
      },
      "outputs": [],
      "source": [
        "import gym\n",
        "import numpy as np\n",
        "import matplotlib.pyplot as plt\n",
        "from gym.wrappers import StepAPICompatibility"
      ]
    },
    {
      "cell_type": "code",
      "execution_count": null,
      "metadata": {
        "id": "i4KZyIS-5LxK"
      },
      "outputs": [],
      "source": [
        "def softmax(x, temp):\n",
        "  # write your solution here\n",
        "  return"
      ]
    },
    {
      "cell_type": "code",
      "execution_count": null,
      "metadata": {
        "id": "gttYBrHj5Yal"
      },
      "outputs": [],
      "source": [
        "class Sarsa:\n",
        "  def __init__(self, env, alpha, gamma, temp):\n",
        "    # write your solution here\n",
        "    self.env = None\n",
        "    self.alpha = None\n",
        "    self.gamma = None\n",
        "    self.temp = None\n",
        "    self.Q = None\n",
        "\n",
        "  def select_action(self, s, greedy=False):\n",
        "    # write your solution here\n",
        "    if greedy:\n",
        "      # if finished training, then choose the optimal policy\n",
        "      return\n",
        "    else:\n",
        "      return\n",
        "\n",
        "  def update(self, s, a, r, s_prime, a_prime, done):\n",
        "    # write your solution here\n",
        "    return\n",
        "\n",
        "\n",
        "class ExpectedSarsa:\n",
        "  def __init__(self, env, alpha, gamma, temp):\n",
        "    # write your solution here\n",
        "    self.env = None\n",
        "    self.alpha = None\n",
        "    self.gamma = None\n",
        "    self.temp = None\n",
        "    self.Q = None\n",
        "    return\n",
        "\n",
        "  def select_action(self, s, greedy=False):\n",
        "    # write your solution here\n",
        "    if greedy:\n",
        "      # if finished training, then choose the optimal policy\n",
        "      return\n",
        "    else:\n",
        "      return\n",
        "\n",
        "  def update(self, s, a, r, s_prime, a_prime, done):\n",
        "    # write your solution here\n",
        "    return\n",
        "\n",
        "# bonus question, optional\n",
        "class Hybrid_Sarsa_Q:\n",
        "  def __init__(self, env, alpha, gamma, temp):\n",
        "    # write your solution here\n",
        "    self.env = None\n",
        "    self.alpha = None\n",
        "    self.gamma = None\n",
        "    self.temp = None\n",
        "    self.Q = None\n",
        "    return\n",
        "\n",
        "  def select_action(self, s, greedy=False):\n",
        "    # write your solution here\n",
        "    if greedy:\n",
        "      # if finished training, then choose the optimal policy\n",
        "      return\n",
        "    else:\n",
        "      return\n",
        "\n",
        "  def update(self, s, a, r, s_prime, a_prime, done):\n",
        "    # write your solution here\n",
        "    return"
      ]
    },
    {
      "cell_type": "markdown",
      "metadata": {
        "id": "Sazk2zxT8jD7"
      },
      "source": [
        "# Write your experiment code below"
      ]
    },
    {
      "cell_type": "code",
      "execution_count": null,
      "metadata": {
        "colab": {
          "base_uri": "https://localhost:8080/"
        },
        "id": "OevfjgjL8mFk",
        "outputId": "524ca6a3-4852-4a21-9c0d-237f0a16e94f"
      },
      "outputs": [
        {
          "name": "stdout",
          "output_type": "stream",
          "text": [
            "Action space: Discrete(4)\n",
            "State space: Discrete(48)\n"
          ]
        }
      ],
      "source": [
        "env_name = 'FrozenLake-v1'\n",
        "env = gym.make(env_name)\n",
        "env = StepAPICompatibility(env, new_step_api=True)\n",
        "print(\"Action space:\", env.action_space)\n",
        "print(\"State space:\", env.observation_space)"
      ]
    },
    {
      "cell_type": "code",
      "execution_count": null,
      "metadata": {
        "id": "NWTmONa1BgaV"
      },
      "outputs": [],
      "source": [
        "# function that runs each episode\n",
        "\n",
        "# function that runs each hyperparameter setting\n"
      ]
    },
    {
      "cell_type": "code",
      "execution_count": null,
      "metadata": {
        "id": "-v-lS7pZ29Nv"
      },
      "outputs": [],
      "source": []
    }
  ],
  "metadata": {
    "colab": {
      "provenance": []
    },
    "kernelspec": {
      "display_name": "Python 3",
      "name": "python3"
    },
    "language_info": {
      "name": "python"
    }
  },
  "nbformat": 4,
  "nbformat_minor": 0
}
