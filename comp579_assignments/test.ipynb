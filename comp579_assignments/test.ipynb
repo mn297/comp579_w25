{
 "cells": [
  {
   "cell_type": "code",
   "execution_count": 2,
   "metadata": {},
   "outputs": [
    {
     "name": "stdout",
     "output_type": "stream",
     "text": [
      "P(600.0 m/s) = 1.311080e-03 1/(m/s)\n",
      "Fraction in [599, 601] m/s ≈ 2.622161e-03\n"
     ]
    }
   ],
   "source": [
    "import numpy as np\n",
    "\n",
    "# Maxwell-Boltzmann speed distribution for a given speed v (m/s)\n",
    "#   P(v) = 4*pi * (M / (2*pi*R*T))^(3/2) * v^2 * exp(-M*v^2 / (2*R*T))\n",
    "#\n",
    "#   where:\n",
    "#     v = speed in m/s\n",
    "#     T = temperature in K\n",
    "#     M = molar mass in kg/mol\n",
    "#     R = gas constant = 8.314 J/(mol*K)\n",
    "\n",
    "def maxwell_speed_pdf(v, T=300.0, M=0.0320, R=8.314):\n",
    "    \"\"\"\n",
    "    Compute the Maxwell-Boltzmann speed distribution (in 3D) at speed v.\n",
    "    M is in kg/mol, R is in J/(mol*K), T is in K, v in m/s.\n",
    "    Returns the probability density in 1/(m/s).\n",
    "    \"\"\"\n",
    "    # Avoid negative speeds\n",
    "    if v < 0:\n",
    "        return 0.0\n",
    "    \n",
    "    # Precompute the constant factor\n",
    "    factor = (M / (2.0 * np.pi * R * T)) ** 1.5\n",
    "    \n",
    "    # Compute the exponential\n",
    "    exponent = - (M * v**2) / (2.0 * R * T)\n",
    "    \n",
    "    # Put it all together\n",
    "    return 4.0 * np.pi * factor * (v**2) * np.exp(exponent)\n",
    "\n",
    "# Example usage:\n",
    "v_test = 600.0  # m/s\n",
    "pdf_value = maxwell_speed_pdf(v_test)\n",
    "print(f\"P({v_test} m/s) = {pdf_value:.6e} 1/(m/s)\")\n",
    "\n",
    "# If you want the approximate fraction in the range 599 to 601 m/s:\n",
    "delta_v = 2.0  # m/s\n",
    "fraction = pdf_value * delta_v\n",
    "print(f\"Fraction in [599, 601] m/s ≈ {fraction:.6e}\")\n"
   ]
  },
  {
   "cell_type": "code",
   "execution_count": null,
   "metadata": {},
   "outputs": [],
   "source": []
  },
  {
   "cell_type": "code",
   "execution_count": null,
   "metadata": {},
   "outputs": [],
   "source": []
  }
 ],
 "metadata": {
  "kernelspec": {
   "display_name": "Python 3",
   "language": "python",
   "name": "python3"
  },
  "language_info": {
   "codemirror_mode": {
    "name": "ipython",
    "version": 3
   },
   "file_extension": ".py",
   "mimetype": "text/x-python",
   "name": "python",
   "nbconvert_exporter": "python",
   "pygments_lexer": "ipython3",
   "version": "3.12.4"
  }
 },
 "nbformat": 4,
 "nbformat_minor": 2
}
